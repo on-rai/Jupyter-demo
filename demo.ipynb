{
 "cells": [
  {
   "cell_type": "code",
   "execution_count": 2,
   "metadata": {},
   "outputs": [],
   "source": [
    "import warnings\n",
    "\n",
    "# import install package/module\n",
    "import pandas as pd\n",
    "import numpy as np\n",
    "import scipy as sp\n",
    "from datetime import datetime\n",
    "from dateutil.relativedelta import relativedelta\n",
    "import seaborn as sns\n",
    "import matplotlib.pyplot as plt\n",
    "import japanize_matplotlib\n",
    "import plotly.graph_objects as go\n",
    "import plotly.express as px\n",
    "from plotly.subplots import make_subplots\n",
    "from google.cloud import bigquery\n",
    "\n",
    "pd.set_option('display.max_columns', None)\n",
    "\n",
    "pd.set_option('display.float_format', lambda x: '%.3f' % x)\n",
    "\n",
    "# configuration\n",
    "warnings.simplefilter(action='ignore', category=FutureWarning)\n",
    "\n",
    "with warnings.catch_warnings():\n",
    "    warnings.simplefilter('ignore', category=UserWarning)\n",
    "    client = bigquery.Client(project=\"inunaki\")\n",
    "\n",
    "%config InlineBackend.figure_format = \"retina\""
   ]
  },
  {
   "cell_type": "code",
   "execution_count": 3,
   "metadata": {},
   "outputs": [],
   "source": [
    "df_plan = pd.read_csv('csv/plan_data_202409_sue.csv', encoding='UTF-8')\n",
    "\n",
    "df_plan['jan'] = df_plan['jan'].astype(str).str.zfill(20)\n",
    "df_plan['store_cd'] = df_plan['store_cd'].astype(str)\n",
    "df_plan['location'] = df_plan['location'].astype(str)\n",
    "\n",
    "df_real = pd.read_csv('csv/real_data_202409_sue.csv')\n",
    "\n",
    "df_real['jan'] = df_real['jan'].astype(str).str.zfill(20)\n",
    "df_real['store_cd'] = df_real['store_cd'].astype(str)\n",
    "df_real['location'] = df_real['location'].astype(str)\n",
    "\n",
    "real_jan = df_real['jan'].tolist()\n",
    "df_plan['real_flg'] = df_plan['jan'].apply(lambda x: 1 if x in real_jan else 0)\n",
    "\n",
    "plan_jan = df_plan['jan'].tolist()\n",
    "df_real['plan_flg'] = df_real['jan'].apply(lambda x: 1 if x in plan_jan else 0)"
   ]
  },
  {
   "cell_type": "code",
   "execution_count": 4,
   "metadata": {},
   "outputs": [
    {
     "data": {
      "application/vnd.plotly.v1+json": {
       "config": {
        "plotlyServerURL": "https://plot.ly"
       },
       "data": [
        {
         "hole": 0.5,
         "hoverinfo": "none",
         "labels": [
          "whole",
          "store"
         ],
         "marker": {
          "colors": [
           "#D6E6DF",
           "#D7637A"
          ]
         },
         "showlegend": false,
         "textinfo": "none",
         "type": "pie",
         "values": [
          0.17867435158501443,
          0.8213256484149856
         ]
        }
       ],
       "layout": {
        "annotations": [
         {
          "font": {
           "color": "#D7637A",
           "size": 23
          },
          "showarrow": false,
          "text": "82.13%",
          "x": 0.5,
          "y": 0.5
         }
        ],
        "template": {
         "data": {
          "bar": [
           {
            "error_x": {
             "color": "#2a3f5f"
            },
            "error_y": {
             "color": "#2a3f5f"
            },
            "marker": {
             "line": {
              "color": "#E5ECF6",
              "width": 0.5
             },
             "pattern": {
              "fillmode": "overlay",
              "size": 10,
              "solidity": 0.2
             }
            },
            "type": "bar"
           }
          ],
          "barpolar": [
           {
            "marker": {
             "line": {
              "color": "#E5ECF6",
              "width": 0.5
             },
             "pattern": {
              "fillmode": "overlay",
              "size": 10,
              "solidity": 0.2
             }
            },
            "type": "barpolar"
           }
          ],
          "carpet": [
           {
            "aaxis": {
             "endlinecolor": "#2a3f5f",
             "gridcolor": "white",
             "linecolor": "white",
             "minorgridcolor": "white",
             "startlinecolor": "#2a3f5f"
            },
            "baxis": {
             "endlinecolor": "#2a3f5f",
             "gridcolor": "white",
             "linecolor": "white",
             "minorgridcolor": "white",
             "startlinecolor": "#2a3f5f"
            },
            "type": "carpet"
           }
          ],
          "choropleth": [
           {
            "colorbar": {
             "outlinewidth": 0,
             "ticks": ""
            },
            "type": "choropleth"
           }
          ],
          "contour": [
           {
            "colorbar": {
             "outlinewidth": 0,
             "ticks": ""
            },
            "colorscale": [
             [
              0,
              "#0d0887"
             ],
             [
              0.1111111111111111,
              "#46039f"
             ],
             [
              0.2222222222222222,
              "#7201a8"
             ],
             [
              0.3333333333333333,
              "#9c179e"
             ],
             [
              0.4444444444444444,
              "#bd3786"
             ],
             [
              0.5555555555555556,
              "#d8576b"
             ],
             [
              0.6666666666666666,
              "#ed7953"
             ],
             [
              0.7777777777777778,
              "#fb9f3a"
             ],
             [
              0.8888888888888888,
              "#fdca26"
             ],
             [
              1,
              "#f0f921"
             ]
            ],
            "type": "contour"
           }
          ],
          "contourcarpet": [
           {
            "colorbar": {
             "outlinewidth": 0,
             "ticks": ""
            },
            "type": "contourcarpet"
           }
          ],
          "heatmap": [
           {
            "colorbar": {
             "outlinewidth": 0,
             "ticks": ""
            },
            "colorscale": [
             [
              0,
              "#0d0887"
             ],
             [
              0.1111111111111111,
              "#46039f"
             ],
             [
              0.2222222222222222,
              "#7201a8"
             ],
             [
              0.3333333333333333,
              "#9c179e"
             ],
             [
              0.4444444444444444,
              "#bd3786"
             ],
             [
              0.5555555555555556,
              "#d8576b"
             ],
             [
              0.6666666666666666,
              "#ed7953"
             ],
             [
              0.7777777777777778,
              "#fb9f3a"
             ],
             [
              0.8888888888888888,
              "#fdca26"
             ],
             [
              1,
              "#f0f921"
             ]
            ],
            "type": "heatmap"
           }
          ],
          "heatmapgl": [
           {
            "colorbar": {
             "outlinewidth": 0,
             "ticks": ""
            },
            "colorscale": [
             [
              0,
              "#0d0887"
             ],
             [
              0.1111111111111111,
              "#46039f"
             ],
             [
              0.2222222222222222,
              "#7201a8"
             ],
             [
              0.3333333333333333,
              "#9c179e"
             ],
             [
              0.4444444444444444,
              "#bd3786"
             ],
             [
              0.5555555555555556,
              "#d8576b"
             ],
             [
              0.6666666666666666,
              "#ed7953"
             ],
             [
              0.7777777777777778,
              "#fb9f3a"
             ],
             [
              0.8888888888888888,
              "#fdca26"
             ],
             [
              1,
              "#f0f921"
             ]
            ],
            "type": "heatmapgl"
           }
          ],
          "histogram": [
           {
            "marker": {
             "pattern": {
              "fillmode": "overlay",
              "size": 10,
              "solidity": 0.2
             }
            },
            "type": "histogram"
           }
          ],
          "histogram2d": [
           {
            "colorbar": {
             "outlinewidth": 0,
             "ticks": ""
            },
            "colorscale": [
             [
              0,
              "#0d0887"
             ],
             [
              0.1111111111111111,
              "#46039f"
             ],
             [
              0.2222222222222222,
              "#7201a8"
             ],
             [
              0.3333333333333333,
              "#9c179e"
             ],
             [
              0.4444444444444444,
              "#bd3786"
             ],
             [
              0.5555555555555556,
              "#d8576b"
             ],
             [
              0.6666666666666666,
              "#ed7953"
             ],
             [
              0.7777777777777778,
              "#fb9f3a"
             ],
             [
              0.8888888888888888,
              "#fdca26"
             ],
             [
              1,
              "#f0f921"
             ]
            ],
            "type": "histogram2d"
           }
          ],
          "histogram2dcontour": [
           {
            "colorbar": {
             "outlinewidth": 0,
             "ticks": ""
            },
            "colorscale": [
             [
              0,
              "#0d0887"
             ],
             [
              0.1111111111111111,
              "#46039f"
             ],
             [
              0.2222222222222222,
              "#7201a8"
             ],
             [
              0.3333333333333333,
              "#9c179e"
             ],
             [
              0.4444444444444444,
              "#bd3786"
             ],
             [
              0.5555555555555556,
              "#d8576b"
             ],
             [
              0.6666666666666666,
              "#ed7953"
             ],
             [
              0.7777777777777778,
              "#fb9f3a"
             ],
             [
              0.8888888888888888,
              "#fdca26"
             ],
             [
              1,
              "#f0f921"
             ]
            ],
            "type": "histogram2dcontour"
           }
          ],
          "mesh3d": [
           {
            "colorbar": {
             "outlinewidth": 0,
             "ticks": ""
            },
            "type": "mesh3d"
           }
          ],
          "parcoords": [
           {
            "line": {
             "colorbar": {
              "outlinewidth": 0,
              "ticks": ""
             }
            },
            "type": "parcoords"
           }
          ],
          "pie": [
           {
            "automargin": true,
            "type": "pie"
           }
          ],
          "scatter": [
           {
            "fillpattern": {
             "fillmode": "overlay",
             "size": 10,
             "solidity": 0.2
            },
            "type": "scatter"
           }
          ],
          "scatter3d": [
           {
            "line": {
             "colorbar": {
              "outlinewidth": 0,
              "ticks": ""
             }
            },
            "marker": {
             "colorbar": {
              "outlinewidth": 0,
              "ticks": ""
             }
            },
            "type": "scatter3d"
           }
          ],
          "scattercarpet": [
           {
            "marker": {
             "colorbar": {
              "outlinewidth": 0,
              "ticks": ""
             }
            },
            "type": "scattercarpet"
           }
          ],
          "scattergeo": [
           {
            "marker": {
             "colorbar": {
              "outlinewidth": 0,
              "ticks": ""
             }
            },
            "type": "scattergeo"
           }
          ],
          "scattergl": [
           {
            "marker": {
             "colorbar": {
              "outlinewidth": 0,
              "ticks": ""
             }
            },
            "type": "scattergl"
           }
          ],
          "scattermapbox": [
           {
            "marker": {
             "colorbar": {
              "outlinewidth": 0,
              "ticks": ""
             }
            },
            "type": "scattermapbox"
           }
          ],
          "scatterpolar": [
           {
            "marker": {
             "colorbar": {
              "outlinewidth": 0,
              "ticks": ""
             }
            },
            "type": "scatterpolar"
           }
          ],
          "scatterpolargl": [
           {
            "marker": {
             "colorbar": {
              "outlinewidth": 0,
              "ticks": ""
             }
            },
            "type": "scatterpolargl"
           }
          ],
          "scatterternary": [
           {
            "marker": {
             "colorbar": {
              "outlinewidth": 0,
              "ticks": ""
             }
            },
            "type": "scatterternary"
           }
          ],
          "surface": [
           {
            "colorbar": {
             "outlinewidth": 0,
             "ticks": ""
            },
            "colorscale": [
             [
              0,
              "#0d0887"
             ],
             [
              0.1111111111111111,
              "#46039f"
             ],
             [
              0.2222222222222222,
              "#7201a8"
             ],
             [
              0.3333333333333333,
              "#9c179e"
             ],
             [
              0.4444444444444444,
              "#bd3786"
             ],
             [
              0.5555555555555556,
              "#d8576b"
             ],
             [
              0.6666666666666666,
              "#ed7953"
             ],
             [
              0.7777777777777778,
              "#fb9f3a"
             ],
             [
              0.8888888888888888,
              "#fdca26"
             ],
             [
              1,
              "#f0f921"
             ]
            ],
            "type": "surface"
           }
          ],
          "table": [
           {
            "cells": {
             "fill": {
              "color": "#EBF0F8"
             },
             "line": {
              "color": "white"
             }
            },
            "header": {
             "fill": {
              "color": "#C8D4E3"
             },
             "line": {
              "color": "white"
             }
            },
            "type": "table"
           }
          ]
         },
         "layout": {
          "annotationdefaults": {
           "arrowcolor": "#2a3f5f",
           "arrowhead": 0,
           "arrowwidth": 1
          },
          "autotypenumbers": "strict",
          "coloraxis": {
           "colorbar": {
            "outlinewidth": 0,
            "ticks": ""
           }
          },
          "colorscale": {
           "diverging": [
            [
             0,
             "#8e0152"
            ],
            [
             0.1,
             "#c51b7d"
            ],
            [
             0.2,
             "#de77ae"
            ],
            [
             0.3,
             "#f1b6da"
            ],
            [
             0.4,
             "#fde0ef"
            ],
            [
             0.5,
             "#f7f7f7"
            ],
            [
             0.6,
             "#e6f5d0"
            ],
            [
             0.7,
             "#b8e186"
            ],
            [
             0.8,
             "#7fbc41"
            ],
            [
             0.9,
             "#4d9221"
            ],
            [
             1,
             "#276419"
            ]
           ],
           "sequential": [
            [
             0,
             "#0d0887"
            ],
            [
             0.1111111111111111,
             "#46039f"
            ],
            [
             0.2222222222222222,
             "#7201a8"
            ],
            [
             0.3333333333333333,
             "#9c179e"
            ],
            [
             0.4444444444444444,
             "#bd3786"
            ],
            [
             0.5555555555555556,
             "#d8576b"
            ],
            [
             0.6666666666666666,
             "#ed7953"
            ],
            [
             0.7777777777777778,
             "#fb9f3a"
            ],
            [
             0.8888888888888888,
             "#fdca26"
            ],
            [
             1,
             "#f0f921"
            ]
           ],
           "sequentialminus": [
            [
             0,
             "#0d0887"
            ],
            [
             0.1111111111111111,
             "#46039f"
            ],
            [
             0.2222222222222222,
             "#7201a8"
            ],
            [
             0.3333333333333333,
             "#9c179e"
            ],
            [
             0.4444444444444444,
             "#bd3786"
            ],
            [
             0.5555555555555556,
             "#d8576b"
            ],
            [
             0.6666666666666666,
             "#ed7953"
            ],
            [
             0.7777777777777778,
             "#fb9f3a"
            ],
            [
             0.8888888888888888,
             "#fdca26"
            ],
            [
             1,
             "#f0f921"
            ]
           ]
          },
          "colorway": [
           "#636efa",
           "#EF553B",
           "#00cc96",
           "#ab63fa",
           "#FFA15A",
           "#19d3f3",
           "#FF6692",
           "#B6E880",
           "#FF97FF",
           "#FECB52"
          ],
          "font": {
           "color": "#2a3f5f"
          },
          "geo": {
           "bgcolor": "white",
           "lakecolor": "white",
           "landcolor": "#E5ECF6",
           "showlakes": true,
           "showland": true,
           "subunitcolor": "white"
          },
          "hoverlabel": {
           "align": "left"
          },
          "hovermode": "closest",
          "mapbox": {
           "style": "light"
          },
          "paper_bgcolor": "white",
          "plot_bgcolor": "#E5ECF6",
          "polar": {
           "angularaxis": {
            "gridcolor": "white",
            "linecolor": "white",
            "ticks": ""
           },
           "bgcolor": "#E5ECF6",
           "radialaxis": {
            "gridcolor": "white",
            "linecolor": "white",
            "ticks": ""
           }
          },
          "scene": {
           "xaxis": {
            "backgroundcolor": "#E5ECF6",
            "gridcolor": "white",
            "gridwidth": 2,
            "linecolor": "white",
            "showbackground": true,
            "ticks": "",
            "zerolinecolor": "white"
           },
           "yaxis": {
            "backgroundcolor": "#E5ECF6",
            "gridcolor": "white",
            "gridwidth": 2,
            "linecolor": "white",
            "showbackground": true,
            "ticks": "",
            "zerolinecolor": "white"
           },
           "zaxis": {
            "backgroundcolor": "#E5ECF6",
            "gridcolor": "white",
            "gridwidth": 2,
            "linecolor": "white",
            "showbackground": true,
            "ticks": "",
            "zerolinecolor": "white"
           }
          },
          "shapedefaults": {
           "line": {
            "color": "#2a3f5f"
           }
          },
          "ternary": {
           "aaxis": {
            "gridcolor": "white",
            "linecolor": "white",
            "ticks": ""
           },
           "baxis": {
            "gridcolor": "white",
            "linecolor": "white",
            "ticks": ""
           },
           "bgcolor": "#E5ECF6",
           "caxis": {
            "gridcolor": "white",
            "linecolor": "white",
            "ticks": ""
           }
          },
          "title": {
           "x": 0.05
          },
          "xaxis": {
           "automargin": true,
           "gridcolor": "white",
           "linecolor": "white",
           "ticks": "",
           "title": {
            "standoff": 15
           },
           "zerolinecolor": "white",
           "zerolinewidth": 2
          },
          "yaxis": {
           "automargin": true,
           "gridcolor": "white",
           "linecolor": "white",
           "ticks": "",
           "title": {
            "standoff": 15
           },
           "zerolinecolor": "white",
           "zerolinewidth": 2
          }
         }
        }
       }
      }
     },
     "metadata": {},
     "output_type": "display_data"
    },
    {
     "name": "stdout",
     "output_type": "stream",
     "text": [
      "計画SKU数: 347\n",
      "実棚SKU数: 561\n",
      "一致SKU数: 285\n"
     ]
    }
   ],
   "source": [
    "percent_store_cd = '473'\n",
    "\n",
    "store = df_plan[(df_plan['store_cd']== percent_store_cd) & (df_plan['real_flg']==1)]['jan'].nunique()/ df_plan[df_plan['store_cd']== percent_store_cd]['jan'].nunique()\n",
    "labels = ['whole','store']\n",
    "values = [1-store, store ]\n",
    "colors = ['#D6E6DF', '#D7637A']\n",
    "fig = go.Figure(data=[go.Pie(labels=labels, values=values, hole=.5, marker=dict(colors=colors))])\n",
    "fig.update_traces(hoverinfo='none', textinfo='none', showlegend=False)\n",
    "fig.update_layout(\n",
    "    annotations=[dict(text=f\"{store:.2%}\", x=0.5, y=0.5, font=dict(size=23, color='#D7637A'), showarrow=False)])\n",
    "fig.show()\n",
    "print('計画SKU数:', df_plan['jan'].nunique())\n",
    "print('実棚SKU数:', df_real['jan'].nunique())\n",
    "print('一致SKU数:', df_plan[df_plan['real_flg']==1]['jan'].nunique())"
   ]
  },
  {
   "cell_type": "code",
   "execution_count": 5,
   "metadata": {},
   "outputs": [
    {
     "data": {
      "application/vnd.plotly.v1+json": {
       "config": {
        "plotlyServerURL": "https://plot.ly"
       },
       "data": [
        {
         "domain": {
          "x": [
           0,
           0.05500000000000001
          ],
          "y": [
           0.7875,
           1
          ]
         },
         "hole": 0.5,
         "hoverinfo": "none",
         "labels": [
          "percentaile",
          "whole"
         ],
         "marker": {
          "colors": [
           "#D7637A",
           "#D6E6DF"
          ]
         },
         "sort": false,
         "text": [
          "100.0%",
          ""
         ],
         "textfont": {
          "color": "#D7637A",
          "size": 17
         },
         "textinfo": "text",
         "textposition": "outside",
         "type": "pie",
         "values": [
          1,
          0
         ]
        },
        {
         "domain": {
          "x": [
           0.10500000000000001,
           0.16000000000000003
          ],
          "y": [
           0.7875,
           1
          ]
         },
         "hole": 0.5,
         "hoverinfo": "none",
         "labels": [
          "percentaile",
          "whole"
         ],
         "marker": {
          "colors": [
           "#D7637A",
           "#D6E6DF"
          ]
         },
         "sort": false,
         "text": [
          "90.0%",
          ""
         ],
         "textfont": {
          "color": "#D7637A",
          "size": 17
         },
         "textinfo": "text",
         "textposition": "outside",
         "type": "pie",
         "values": [
          0.9,
          0.09999999999999998
         ]
        },
        {
         "domain": {
          "x": [
           0.21000000000000002,
           0.265
          ],
          "y": [
           0.7875,
           1
          ]
         },
         "hole": 0.5,
         "hoverinfo": "none",
         "labels": [
          "percentaile",
          "whole"
         ],
         "marker": {
          "colors": [
           "#D7637A",
           "#D6E6DF"
          ]
         },
         "sort": false,
         "text": [
          "71.4%",
          ""
         ],
         "textfont": {
          "color": "#D7637A",
          "size": 17
         },
         "textinfo": "text",
         "textposition": "outside",
         "type": "pie",
         "values": [
          0.7142857142857143,
          0.2857142857142857
         ]
        },
        {
         "domain": {
          "x": [
           0.31500000000000006,
           0.37000000000000005
          ],
          "y": [
           0.7875,
           1
          ]
         },
         "hole": 0.5,
         "hoverinfo": "none",
         "labels": [
          "percentaile",
          "whole"
         ],
         "marker": {
          "colors": [
           "#D7637A",
           "#D6E6DF"
          ]
         },
         "sort": false,
         "text": [
          "35.0%",
          ""
         ],
         "textfont": {
          "color": "#D7637A",
          "size": 17
         },
         "textinfo": "text",
         "textposition": "outside",
         "type": "pie",
         "values": [
          0.35,
          0.65
         ]
        },
        {
         "domain": {
          "x": [
           0.42000000000000004,
           0.47500000000000003
          ],
          "y": [
           0.7875,
           1
          ]
         },
         "hole": 0.5,
         "hoverinfo": "none",
         "labels": [
          "percentaile",
          "whole"
         ],
         "marker": {
          "colors": [
           "#D7637A",
           "#D6E6DF"
          ]
         },
         "sort": false,
         "text": [
          "100.0%",
          ""
         ],
         "textfont": {
          "color": "#D7637A",
          "size": 17
         },
         "textinfo": "text",
         "textposition": "outside",
         "type": "pie",
         "values": [
          1,
          0
         ]
        },
        {
         "domain": {
          "x": [
           0.525,
           0.5800000000000001
          ],
          "y": [
           0.7875,
           1
          ]
         },
         "hole": 0.5,
         "hoverinfo": "none",
         "labels": [
          "percentaile",
          "whole"
         ],
         "marker": {
          "colors": [
           "#D7637A",
           "#D6E6DF"
          ]
         },
         "sort": false,
         "text": [
          "83.3%",
          ""
         ],
         "textfont": {
          "color": "#D7637A",
          "size": 17
         },
         "textinfo": "text",
         "textposition": "outside",
         "type": "pie",
         "values": [
          0.8333333333333334,
          0.16666666666666663
         ]
        },
        {
         "domain": {
          "x": [
           0.6300000000000001,
           0.6850000000000002
          ],
          "y": [
           0.7875,
           1
          ]
         },
         "hole": 0.5,
         "hoverinfo": "none",
         "labels": [
          "percentaile",
          "whole"
         ],
         "marker": {
          "colors": [
           "#D7637A",
           "#D6E6DF"
          ]
         },
         "sort": false,
         "text": [
          "90.0%",
          ""
         ],
         "textfont": {
          "color": "#D7637A",
          "size": 17
         },
         "textinfo": "text",
         "textposition": "outside",
         "type": "pie",
         "values": [
          0.9,
          0.09999999999999998
         ]
        },
        {
         "domain": {
          "x": [
           0.7350000000000001,
           0.7900000000000001
          ],
          "y": [
           0.7875,
           1
          ]
         },
         "hole": 0.5,
         "hoverinfo": "none",
         "labels": [
          "percentaile",
          "whole"
         ],
         "marker": {
          "colors": [
           "#D7637A",
           "#D6E6DF"
          ]
         },
         "sort": false,
         "text": [
          "83.3%",
          ""
         ],
         "textfont": {
          "color": "#D7637A",
          "size": 17
         },
         "textinfo": "text",
         "textposition": "outside",
         "type": "pie",
         "values": [
          0.8333333333333334,
          0.16666666666666663
         ]
        },
        {
         "domain": {
          "x": [
           0.8400000000000001,
           0.8950000000000001
          ],
          "y": [
           0.7875,
           1
          ]
         },
         "hole": 0.5,
         "hoverinfo": "none",
         "labels": [
          "percentaile",
          "whole"
         ],
         "marker": {
          "colors": [
           "#D7637A",
           "#D6E6DF"
          ]
         },
         "sort": false,
         "text": [
          "47.6%",
          ""
         ],
         "textfont": {
          "color": "#D7637A",
          "size": 17
         },
         "textinfo": "text",
         "textposition": "outside",
         "type": "pie",
         "values": [
          0.47619047619047616,
          0.5238095238095238
         ]
        },
        {
         "domain": {
          "x": [
           0.9450000000000001,
           1
          ],
          "y": [
           0.7875,
           1
          ]
         },
         "hole": 0.5,
         "hoverinfo": "none",
         "labels": [
          "percentaile",
          "whole"
         ],
         "marker": {
          "colors": [
           "#D7637A",
           "#D6E6DF"
          ]
         },
         "sort": false,
         "text": [
          "85.7%",
          ""
         ],
         "textfont": {
          "color": "#D7637A",
          "size": 17
         },
         "textinfo": "text",
         "textposition": "outside",
         "type": "pie",
         "values": [
          0.8571428571428571,
          0.1428571428571429
         ]
        },
        {
         "domain": {
          "x": [
           0,
           0.05500000000000001
          ],
          "y": [
           0.525,
           0.7375
          ]
         },
         "hole": 0.5,
         "hoverinfo": "none",
         "labels": [
          "percentaile",
          "whole"
         ],
         "marker": {
          "colors": [
           "#D7637A",
           "#D6E6DF"
          ]
         },
         "sort": false,
         "text": [
          "100.0%",
          ""
         ],
         "textfont": {
          "color": "#D7637A",
          "size": 17
         },
         "textinfo": "text",
         "textposition": "outside",
         "type": "pie",
         "values": [
          1,
          0
         ]
        },
        {
         "domain": {
          "x": [
           0.10500000000000001,
           0.16000000000000003
          ],
          "y": [
           0.525,
           0.7375
          ]
         },
         "hole": 0.5,
         "hoverinfo": "none",
         "labels": [
          "percentaile",
          "whole"
         ],
         "marker": {
          "colors": [
           "#D7637A",
           "#D6E6DF"
          ]
         },
         "sort": false,
         "text": [
          "100.0%",
          ""
         ],
         "textfont": {
          "color": "#D7637A",
          "size": 17
         },
         "textinfo": "text",
         "textposition": "outside",
         "type": "pie",
         "values": [
          1,
          0
         ]
        },
        {
         "domain": {
          "x": [
           0.21000000000000002,
           0.265
          ],
          "y": [
           0.525,
           0.7375
          ]
         },
         "hole": 0.5,
         "hoverinfo": "none",
         "labels": [
          "percentaile",
          "whole"
         ],
         "marker": {
          "colors": [
           "#D7637A",
           "#D6E6DF"
          ]
         },
         "sort": false,
         "text": [
          "88.9%",
          ""
         ],
         "textfont": {
          "color": "#D7637A",
          "size": 17
         },
         "textinfo": "text",
         "textposition": "outside",
         "type": "pie",
         "values": [
          0.8888888888888888,
          0.11111111111111116
         ]
        },
        {
         "domain": {
          "x": [
           0.31500000000000006,
           0.37000000000000005
          ],
          "y": [
           0.525,
           0.7375
          ]
         },
         "hole": 0.5,
         "hoverinfo": "none",
         "labels": [
          "percentaile",
          "whole"
         ],
         "marker": {
          "colors": [
           "#D7637A",
           "#D6E6DF"
          ]
         },
         "sort": false,
         "text": [
          "100.0%",
          ""
         ],
         "textfont": {
          "color": "#D7637A",
          "size": 17
         },
         "textinfo": "text",
         "textposition": "outside",
         "type": "pie",
         "values": [
          1,
          0
         ]
        },
        {
         "domain": {
          "x": [
           0.42000000000000004,
           0.47500000000000003
          ],
          "y": [
           0.525,
           0.7375
          ]
         },
         "hole": 0.5,
         "hoverinfo": "none",
         "labels": [
          "percentaile",
          "whole"
         ],
         "marker": {
          "colors": [
           "#D7637A",
           "#D6E6DF"
          ]
         },
         "sort": false,
         "text": [
          "100.0%",
          ""
         ],
         "textfont": {
          "color": "#D7637A",
          "size": 17
         },
         "textinfo": "text",
         "textposition": "outside",
         "type": "pie",
         "values": [
          1,
          0
         ]
        },
        {
         "domain": {
          "x": [
           0.525,
           0.5800000000000001
          ],
          "y": [
           0.525,
           0.7375
          ]
         },
         "hole": 0.5,
         "hoverinfo": "none",
         "labels": [
          "percentaile",
          "whole"
         ],
         "marker": {
          "colors": [
           "#D7637A",
           "#D6E6DF"
          ]
         },
         "sort": false,
         "text": [
          "90.7%",
          ""
         ],
         "textfont": {
          "color": "#D7637A",
          "size": 17
         },
         "textinfo": "text",
         "textposition": "outside",
         "type": "pie",
         "values": [
          0.9069767441860465,
          0.09302325581395354
         ]
        },
        {
         "domain": {
          "x": [
           0.6300000000000001,
           0.6850000000000002
          ],
          "y": [
           0.525,
           0.7375
          ]
         },
         "hole": 0.5,
         "hoverinfo": "none",
         "labels": [
          "percentaile",
          "whole"
         ],
         "marker": {
          "colors": [
           "#D7637A",
           "#D6E6DF"
          ]
         },
         "sort": false,
         "text": [
          "66.7%",
          ""
         ],
         "textfont": {
          "color": "#D7637A",
          "size": 17
         },
         "textinfo": "text",
         "textposition": "outside",
         "type": "pie",
         "values": [
          0.6666666666666666,
          0.33333333333333337
         ]
        },
        {
         "domain": {
          "x": [
           0.7350000000000001,
           0.7900000000000001
          ],
          "y": [
           0.525,
           0.7375
          ]
         },
         "hole": 0.5,
         "hoverinfo": "none",
         "labels": [
          "percentaile",
          "whole"
         ],
         "marker": {
          "colors": [
           "#D7637A",
           "#D6E6DF"
          ]
         },
         "sort": false,
         "text": [
          "66.7%",
          ""
         ],
         "textfont": {
          "color": "#D7637A",
          "size": 17
         },
         "textinfo": "text",
         "textposition": "outside",
         "type": "pie",
         "values": [
          0.6666666666666666,
          0.33333333333333337
         ]
        },
        {
         "domain": {
          "x": [
           0.8400000000000001,
           0.8950000000000001
          ],
          "y": [
           0.525,
           0.7375
          ]
         },
         "hole": 0.5,
         "hoverinfo": "none",
         "labels": [
          "percentaile",
          "whole"
         ],
         "marker": {
          "colors": [
           "#D7637A",
           "#D6E6DF"
          ]
         },
         "sort": false,
         "text": [
          "87.5%",
          ""
         ],
         "textfont": {
          "color": "#D7637A",
          "size": 17
         },
         "textinfo": "text",
         "textposition": "outside",
         "type": "pie",
         "values": [
          0.875,
          0.125
         ]
        },
        {
         "domain": {
          "x": [
           0.9450000000000001,
           1
          ],
          "y": [
           0.525,
           0.7375
          ]
         },
         "hole": 0.5,
         "hoverinfo": "none",
         "labels": [
          "percentaile",
          "whole"
         ],
         "marker": {
          "colors": [
           "#D7637A",
           "#D6E6DF"
          ]
         },
         "sort": false,
         "text": [
          "50.0%",
          ""
         ],
         "textfont": {
          "color": "#D7637A",
          "size": 17
         },
         "textinfo": "text",
         "textposition": "outside",
         "type": "pie",
         "values": [
          0.5,
          0.5
         ]
        },
        {
         "domain": {
          "x": [
           0,
           0.05500000000000001
          ],
          "y": [
           0.2625,
           0.475
          ]
         },
         "hole": 0.5,
         "hoverinfo": "none",
         "labels": [
          "percentaile",
          "whole"
         ],
         "marker": {
          "colors": [
           "#D7637A",
           "#D6E6DF"
          ]
         },
         "sort": false,
         "text": [
          "83.3%",
          ""
         ],
         "textfont": {
          "color": "#D7637A",
          "size": 17
         },
         "textinfo": "text",
         "textposition": "outside",
         "type": "pie",
         "values": [
          0.8333333333333334,
          0.16666666666666663
         ]
        },
        {
         "domain": {
          "x": [
           0.10500000000000001,
           0.16000000000000003
          ],
          "y": [
           0.2625,
           0.475
          ]
         },
         "hole": 0.5,
         "hoverinfo": "none",
         "labels": [
          "percentaile",
          "whole"
         ],
         "marker": {
          "colors": [
           "#D7637A",
           "#D6E6DF"
          ]
         },
         "sort": false,
         "text": [
          "100.0%",
          ""
         ],
         "textfont": {
          "color": "#D7637A",
          "size": 17
         },
         "textinfo": "text",
         "textposition": "outside",
         "type": "pie",
         "values": [
          1,
          0
         ]
        },
        {
         "domain": {
          "x": [
           0.21000000000000002,
           0.265
          ],
          "y": [
           0.2625,
           0.475
          ]
         },
         "hole": 0.5,
         "hoverinfo": "none",
         "labels": [
          "percentaile",
          "whole"
         ],
         "marker": {
          "colors": [
           "#D7637A",
           "#D6E6DF"
          ]
         },
         "sort": false,
         "text": [
          "100.0%",
          ""
         ],
         "textfont": {
          "color": "#D7637A",
          "size": 17
         },
         "textinfo": "text",
         "textposition": "outside",
         "type": "pie",
         "values": [
          1,
          0
         ]
        },
        {
         "domain": {
          "x": [
           0.31500000000000006,
           0.37000000000000005
          ],
          "y": [
           0.2625,
           0.475
          ]
         },
         "hole": 0.5,
         "hoverinfo": "none",
         "labels": [
          "percentaile",
          "whole"
         ],
         "marker": {
          "colors": [
           "#D7637A",
           "#D6E6DF"
          ]
         },
         "sort": false,
         "text": [
          "100.0%",
          ""
         ],
         "textfont": {
          "color": "#D7637A",
          "size": 17
         },
         "textinfo": "text",
         "textposition": "outside",
         "type": "pie",
         "values": [
          1,
          0
         ]
        },
        {
         "domain": {
          "x": [
           0.42000000000000004,
           0.47500000000000003
          ],
          "y": [
           0.2625,
           0.475
          ]
         },
         "hole": 0.5,
         "hoverinfo": "none",
         "labels": [
          "percentaile",
          "whole"
         ],
         "marker": {
          "colors": [
           "#D7637A",
           "#D6E6DF"
          ]
         },
         "sort": false,
         "text": [
          "75.0%",
          ""
         ],
         "textfont": {
          "color": "#D7637A",
          "size": 17
         },
         "textinfo": "text",
         "textposition": "outside",
         "type": "pie",
         "values": [
          0.75,
          0.25
         ]
        },
        {
         "domain": {
          "x": [
           0.525,
           0.5800000000000001
          ],
          "y": [
           0.2625,
           0.475
          ]
         },
         "hole": 0.5,
         "hoverinfo": "none",
         "labels": [
          "percentaile",
          "whole"
         ],
         "marker": {
          "colors": [
           "#D7637A",
           "#D6E6DF"
          ]
         },
         "sort": false,
         "text": [
          "33.3%",
          ""
         ],
         "textfont": {
          "color": "#D7637A",
          "size": 17
         },
         "textinfo": "text",
         "textposition": "outside",
         "type": "pie",
         "values": [
          0.3333333333333333,
          0.6666666666666667
         ]
        },
        {
         "domain": {
          "x": [
           0.6300000000000001,
           0.6850000000000002
          ],
          "y": [
           0.2625,
           0.475
          ]
         },
         "hole": 0.5,
         "hoverinfo": "none",
         "labels": [
          "percentaile",
          "whole"
         ],
         "marker": {
          "colors": [
           "#D7637A",
           "#D6E6DF"
          ]
         },
         "sort": false,
         "text": [
          "100.0%",
          ""
         ],
         "textfont": {
          "color": "#D7637A",
          "size": 17
         },
         "textinfo": "text",
         "textposition": "outside",
         "type": "pie",
         "values": [
          1,
          0
         ]
        },
        {
         "domain": {
          "x": [
           0.7350000000000001,
           0.7900000000000001
          ],
          "y": [
           0.2625,
           0.475
          ]
         },
         "hole": 0.5,
         "hoverinfo": "none",
         "labels": [
          "percentaile",
          "whole"
         ],
         "marker": {
          "colors": [
           "#D7637A",
           "#D6E6DF"
          ]
         },
         "sort": false,
         "text": [
          "100.0%",
          ""
         ],
         "textfont": {
          "color": "#D7637A",
          "size": 17
         },
         "textinfo": "text",
         "textposition": "outside",
         "type": "pie",
         "values": [
          1,
          0
         ]
        },
        {
         "domain": {
          "x": [
           0.8400000000000001,
           0.8950000000000001
          ],
          "y": [
           0.2625,
           0.475
          ]
         },
         "hole": 0.5,
         "hoverinfo": "none",
         "labels": [
          "percentaile",
          "whole"
         ],
         "marker": {
          "colors": [
           "#D7637A",
           "#D6E6DF"
          ]
         },
         "sort": false,
         "text": [
          "100.0%",
          ""
         ],
         "textfont": {
          "color": "#D7637A",
          "size": 17
         },
         "textinfo": "text",
         "textposition": "outside",
         "type": "pie",
         "values": [
          1,
          0
         ]
        },
        {
         "domain": {
          "x": [
           0.9450000000000001,
           1
          ],
          "y": [
           0.2625,
           0.475
          ]
         },
         "hole": 0.5,
         "hoverinfo": "none",
         "labels": [
          "percentaile",
          "whole"
         ],
         "marker": {
          "colors": [
           "#D7637A",
           "#D6E6DF"
          ]
         },
         "sort": false,
         "text": [
          "75.0%",
          ""
         ],
         "textfont": {
          "color": "#D7637A",
          "size": 17
         },
         "textinfo": "text",
         "textposition": "outside",
         "type": "pie",
         "values": [
          0.75,
          0.25
         ]
        },
        {
         "domain": {
          "x": [
           0,
           0.05500000000000001
          ],
          "y": [
           0,
           0.2125
          ]
         },
         "hole": 0.5,
         "hoverinfo": "none",
         "labels": [
          "percentaile",
          "whole"
         ],
         "marker": {
          "colors": [
           "#D7637A",
           "#D6E6DF"
          ]
         },
         "sort": false,
         "text": [
          "100.0%",
          ""
         ],
         "textfont": {
          "color": "#D7637A",
          "size": 17
         },
         "textinfo": "text",
         "textposition": "outside",
         "type": "pie",
         "values": [
          1,
          0
         ]
        },
        {
         "domain": {
          "x": [
           0.10500000000000001,
           0.16000000000000003
          ],
          "y": [
           0,
           0.2125
          ]
         },
         "hole": 0.5,
         "hoverinfo": "none",
         "labels": [
          "percentaile",
          "whole"
         ],
         "marker": {
          "colors": [
           "#D7637A",
           "#D6E6DF"
          ]
         },
         "sort": false,
         "text": [
          "100.0%",
          ""
         ],
         "textfont": {
          "color": "#D7637A",
          "size": 17
         },
         "textinfo": "text",
         "textposition": "outside",
         "type": "pie",
         "values": [
          1,
          0
         ]
        },
        {
         "domain": {
          "x": [
           0.21000000000000002,
           0.265
          ],
          "y": [
           0,
           0.2125
          ]
         },
         "hole": 0.5,
         "hoverinfo": "none",
         "labels": [
          "percentaile",
          "whole"
         ],
         "marker": {
          "colors": [
           "#D7637A",
           "#D6E6DF"
          ]
         },
         "sort": false,
         "text": [
          "100.0%",
          ""
         ],
         "textfont": {
          "color": "#D7637A",
          "size": 17
         },
         "textinfo": "text",
         "textposition": "outside",
         "type": "pie",
         "values": [
          1,
          0
         ]
        },
        {
         "domain": {
          "x": [
           0.31500000000000006,
           0.37000000000000005
          ],
          "y": [
           0,
           0.2125
          ]
         },
         "hole": 0.5,
         "hoverinfo": "none",
         "labels": [
          "percentaile",
          "whole"
         ],
         "marker": {
          "colors": [
           "#D7637A",
           "#D6E6DF"
          ]
         },
         "sort": false,
         "text": [
          "33.3%",
          ""
         ],
         "textfont": {
          "color": "#D7637A",
          "size": 17
         },
         "textinfo": "text",
         "textposition": "outside",
         "type": "pie",
         "values": [
          0.3333333333333333,
          0.6666666666666667
         ]
        },
        {
         "domain": {
          "x": [
           0.42000000000000004,
           0.47500000000000003
          ],
          "y": [
           0,
           0.2125
          ]
         },
         "hole": 0.5,
         "hoverinfo": "none",
         "labels": [
          "percentaile",
          "whole"
         ],
         "marker": {
          "colors": [
           "#D7637A",
           "#D6E6DF"
          ]
         },
         "sort": false,
         "text": [
          "87.5%",
          ""
         ],
         "textfont": {
          "color": "#D7637A",
          "size": 17
         },
         "textinfo": "text",
         "textposition": "outside",
         "type": "pie",
         "values": [
          0.875,
          0.125
         ]
        },
        {
         "domain": {
          "x": [
           0.525,
           0.5800000000000001
          ],
          "y": [
           0,
           0.2125
          ]
         },
         "hole": 0.5,
         "hoverinfo": "none",
         "labels": [
          "percentaile",
          "whole"
         ],
         "marker": {
          "colors": [
           "#D7637A",
           "#D6E6DF"
          ]
         },
         "sort": false,
         "text": [
          "60.0%",
          ""
         ],
         "textfont": {
          "color": "#D7637A",
          "size": 17
         },
         "textinfo": "text",
         "textposition": "outside",
         "type": "pie",
         "values": [
          0.6,
          0.4
         ]
        },
        {
         "domain": {
          "x": [
           0.6300000000000001,
           0.6850000000000002
          ],
          "y": [
           0,
           0.2125
          ]
         },
         "hole": 0.5,
         "hoverinfo": "none",
         "labels": [
          "percentaile",
          "whole"
         ],
         "marker": {
          "colors": [
           "#D7637A",
           "#D6E6DF"
          ]
         },
         "sort": false,
         "text": [
          "100.0%",
          ""
         ],
         "textfont": {
          "color": "#D7637A",
          "size": 17
         },
         "textinfo": "text",
         "textposition": "outside",
         "type": "pie",
         "values": [
          1,
          0
         ]
        }
       ],
       "layout": {
        "annotations": [
         {
          "font": {
           "size": 16
          },
          "showarrow": false,
          "text": "ごはん海苔",
          "x": 0.027500000000000004,
          "xanchor": "center",
          "xref": "paper",
          "y": 1,
          "yanchor": "bottom",
          "yref": "paper"
         },
         {
          "font": {
           "size": 16
          },
          "showarrow": false,
          "text": "たれ1本",
          "x": 0.1325,
          "xanchor": "center",
          "xref": "paper",
          "y": 1,
          "yanchor": "bottom",
          "yref": "paper"
         },
         {
          "font": {
           "size": 16
          },
          "showarrow": false,
          "text": "ほろよい",
          "x": 0.23750000000000002,
          "xanchor": "center",
          "xref": "paper",
          "y": 1,
          "yanchor": "bottom",
          "yref": "paper"
         },
         {
          "font": {
           "size": 16
          },
          "showarrow": false,
          "text": "カップ麺",
          "x": 0.3425,
          "xanchor": "center",
          "xref": "paper",
          "y": 1,
          "yanchor": "bottom",
          "yref": "paper"
         },
         {
          "font": {
           "size": 16
          },
          "showarrow": false,
          "text": "カレー・シチュー1本",
          "x": 0.4475,
          "xanchor": "center",
          "xref": "paper",
          "y": 1,
          "yanchor": "bottom",
          "yref": "paper"
         },
         {
          "font": {
           "size": 16
          },
          "showarrow": false,
          "text": "ケーキ1本",
          "x": 0.5525,
          "xanchor": "center",
          "xref": "paper",
          "y": 1,
          "yanchor": "bottom",
          "yref": "paper"
         },
         {
          "font": {
           "size": 16
          },
          "showarrow": false,
          "text": "コーヒー紅茶",
          "x": 0.6575000000000002,
          "xanchor": "center",
          "xref": "paper",
          "y": 1,
          "yanchor": "bottom",
          "yref": "paper"
         },
         {
          "font": {
           "size": 16
          },
          "showarrow": false,
          "text": "シリアル1本",
          "x": 0.7625000000000002,
          "xanchor": "center",
          "xref": "paper",
          "y": 1,
          "yanchor": "bottom",
          "yref": "paper"
         },
         {
          "font": {
           "size": 16
          },
          "showarrow": false,
          "text": "スナック",
          "x": 0.8675000000000002,
          "xanchor": "center",
          "xref": "paper",
          "y": 1,
          "yanchor": "bottom",
          "yref": "paper"
         },
         {
          "font": {
           "size": 16
          },
          "showarrow": false,
          "text": "スープ",
          "x": 0.9725,
          "xanchor": "center",
          "xref": "paper",
          "y": 1,
          "yanchor": "bottom",
          "yref": "paper"
         },
         {
          "font": {
           "size": 16
          },
          "showarrow": false,
          "text": "チョコ・子供1本",
          "x": 0.027500000000000004,
          "xanchor": "center",
          "xref": "paper",
          "y": 0.7375,
          "yanchor": "bottom",
          "yref": "paper"
         },
         {
          "font": {
           "size": 16
          },
          "showarrow": false,
          "text": "チョコ・子供2本",
          "x": 0.1325,
          "xanchor": "center",
          "xref": "paper",
          "y": 0.7375,
          "yanchor": "bottom",
          "yref": "paper"
         },
         {
          "font": {
           "size": 16
          },
          "showarrow": false,
          "text": "パスタ1本",
          "x": 0.23750000000000002,
          "xanchor": "center",
          "xref": "paper",
          "y": 0.7375,
          "yanchor": "bottom",
          "yref": "paper"
         },
         {
          "font": {
           "size": 16
          },
          "showarrow": false,
          "text": "ビスクラ1本",
          "x": 0.3425,
          "xanchor": "center",
          "xref": "paper",
          "y": 0.7375,
          "yanchor": "bottom",
          "yref": "paper"
         },
         {
          "font": {
           "size": 16
          },
          "showarrow": false,
          "text": "ビスクラ2本",
          "x": 0.4475,
          "xanchor": "center",
          "xref": "paper",
          "y": 0.7375,
          "yanchor": "bottom",
          "yref": "paper"
         },
         {
          "font": {
           "size": 16
          },
          "showarrow": false,
          "text": "ビール",
          "x": 0.5525,
          "xanchor": "center",
          "xref": "paper",
          "y": 0.7375,
          "yanchor": "bottom",
          "yref": "paper"
         },
         {
          "font": {
           "size": 16
          },
          "showarrow": false,
          "text": "フルーツ缶・デザート1本",
          "x": 0.6575000000000002,
          "xanchor": "center",
          "xref": "paper",
          "y": 0.7375,
          "yanchor": "bottom",
          "yref": "paper"
         },
         {
          "font": {
           "size": 16
          },
          "showarrow": false,
          "text": "レサワ",
          "x": 0.7625000000000002,
          "xanchor": "center",
          "xref": "paper",
          "y": 0.7375,
          "yanchor": "bottom",
          "yref": "paper"
         },
         {
          "font": {
           "size": 16
          },
          "showarrow": false,
          "text": "中華1本",
          "x": 0.8675000000000002,
          "xanchor": "center",
          "xref": "paper",
          "y": 0.7375,
          "yanchor": "bottom",
          "yref": "paper"
         },
         {
          "font": {
           "size": 16
          },
          "showarrow": false,
          "text": "乾麺",
          "x": 0.9725,
          "xanchor": "center",
          "xref": "paper",
          "y": 0.7375,
          "yanchor": "bottom",
          "yref": "paper"
         },
         {
          "font": {
           "size": 16
          },
          "showarrow": false,
          "text": "切り餅",
          "x": 0.027500000000000004,
          "xanchor": "center",
          "xref": "paper",
          "y": 0.475,
          "yanchor": "bottom",
          "yref": "paper"
         },
         {
          "font": {
           "size": 16
          },
          "showarrow": false,
          "text": "和調味1本",
          "x": 0.1325,
          "xanchor": "center",
          "xref": "paper",
          "y": 0.475,
          "yanchor": "bottom",
          "yref": "paper"
         },
         {
          "font": {
           "size": 16
          },
          "showarrow": false,
          "text": "嗜好品1本",
          "x": 0.23750000000000002,
          "xanchor": "center",
          "xref": "paper",
          "y": 0.475,
          "yanchor": "bottom",
          "yref": "paper"
         },
         {
          "font": {
           "size": 16
          },
          "showarrow": false,
          "text": "大型PET",
          "x": 0.3425,
          "xanchor": "center",
          "xref": "paper",
          "y": 0.475,
          "yanchor": "bottom",
          "yref": "paper"
         },
         {
          "font": {
           "size": 16
          },
          "showarrow": false,
          "text": "小型PET",
          "x": 0.4475,
          "xanchor": "center",
          "xref": "paper",
          "y": 0.475,
          "yanchor": "bottom",
          "yref": "paper"
         },
         {
          "font": {
           "size": 16
          },
          "showarrow": false,
          "text": "油1本",
          "x": 0.5525,
          "xanchor": "center",
          "xref": "paper",
          "y": 0.475,
          "yanchor": "bottom",
          "yref": "paper"
         },
         {
          "font": {
           "size": 16
          },
          "showarrow": false,
          "text": "洋調味1本",
          "x": 0.6575000000000002,
          "xanchor": "center",
          "xref": "paper",
          "y": 0.475,
          "yanchor": "bottom",
          "yref": "paper"
         },
         {
          "font": {
           "size": 16
          },
          "showarrow": false,
          "text": "洋酒コロナ",
          "x": 0.7625000000000002,
          "xanchor": "center",
          "xref": "paper",
          "y": 0.475,
          "yanchor": "bottom",
          "yref": "paper"
         },
         {
          "font": {
           "size": 16
          },
          "showarrow": false,
          "text": "焼酎ハイ",
          "x": 0.8675000000000002,
          "xanchor": "center",
          "xref": "paper",
          "y": 0.475,
          "yanchor": "bottom",
          "yref": "paper"
         },
         {
          "font": {
           "size": 16
          },
          "showarrow": false,
          "text": "珍味1本",
          "x": 0.9725,
          "xanchor": "center",
          "xref": "paper",
          "y": 0.475,
          "yanchor": "bottom",
          "yref": "paper"
         },
         {
          "font": {
           "size": 16
          },
          "showarrow": false,
          "text": "珍味2本",
          "x": 0.027500000000000004,
          "xanchor": "center",
          "xref": "paper",
          "y": 0.2125,
          "yanchor": "bottom",
          "yref": "paper"
         },
         {
          "font": {
           "size": 16
          },
          "showarrow": false,
          "text": "箱スナ1本",
          "x": 0.1325,
          "xanchor": "center",
          "xref": "paper",
          "y": 0.2125,
          "yanchor": "bottom",
          "yref": "paper"
         },
         {
          "font": {
           "size": 16
          },
          "showarrow": false,
          "text": "箱スナ2本",
          "x": 0.23750000000000002,
          "xanchor": "center",
          "xref": "paper",
          "y": 0.2125,
          "yanchor": "bottom",
          "yref": "paper"
         },
         {
          "font": {
           "size": 16
          },
          "showarrow": false,
          "text": "米菓・半焼1本",
          "x": 0.3425,
          "xanchor": "center",
          "xref": "paper",
          "y": 0.2125,
          "yanchor": "bottom",
          "yref": "paper"
         },
         {
          "font": {
           "size": 16
          },
          "showarrow": false,
          "text": "米菓・半焼2本",
          "x": 0.4475,
          "xanchor": "center",
          "xref": "paper",
          "y": 0.2125,
          "yanchor": "bottom",
          "yref": "paper"
         },
         {
          "font": {
           "size": 16
          },
          "showarrow": false,
          "text": "米菓・半焼3本",
          "x": 0.5525,
          "xanchor": "center",
          "xref": "paper",
          "y": 0.2125,
          "yanchor": "bottom",
          "yref": "paper"
         },
         {
          "font": {
           "size": 16
          },
          "showarrow": false,
          "text": "缶詰・瓶詰1本",
          "x": 0.6575000000000002,
          "xanchor": "center",
          "xref": "paper",
          "y": 0.2125,
          "yanchor": "bottom",
          "yref": "paper"
         }
        ],
        "height": 800,
        "margin": {
         "b": 10,
         "l": 20,
         "r": 20,
         "t": 40
        },
        "showlegend": false,
        "template": {
         "data": {
          "bar": [
           {
            "error_x": {
             "color": "#2a3f5f"
            },
            "error_y": {
             "color": "#2a3f5f"
            },
            "marker": {
             "line": {
              "color": "#E5ECF6",
              "width": 0.5
             },
             "pattern": {
              "fillmode": "overlay",
              "size": 10,
              "solidity": 0.2
             }
            },
            "type": "bar"
           }
          ],
          "barpolar": [
           {
            "marker": {
             "line": {
              "color": "#E5ECF6",
              "width": 0.5
             },
             "pattern": {
              "fillmode": "overlay",
              "size": 10,
              "solidity": 0.2
             }
            },
            "type": "barpolar"
           }
          ],
          "carpet": [
           {
            "aaxis": {
             "endlinecolor": "#2a3f5f",
             "gridcolor": "white",
             "linecolor": "white",
             "minorgridcolor": "white",
             "startlinecolor": "#2a3f5f"
            },
            "baxis": {
             "endlinecolor": "#2a3f5f",
             "gridcolor": "white",
             "linecolor": "white",
             "minorgridcolor": "white",
             "startlinecolor": "#2a3f5f"
            },
            "type": "carpet"
           }
          ],
          "choropleth": [
           {
            "colorbar": {
             "outlinewidth": 0,
             "ticks": ""
            },
            "type": "choropleth"
           }
          ],
          "contour": [
           {
            "colorbar": {
             "outlinewidth": 0,
             "ticks": ""
            },
            "colorscale": [
             [
              0,
              "#0d0887"
             ],
             [
              0.1111111111111111,
              "#46039f"
             ],
             [
              0.2222222222222222,
              "#7201a8"
             ],
             [
              0.3333333333333333,
              "#9c179e"
             ],
             [
              0.4444444444444444,
              "#bd3786"
             ],
             [
              0.5555555555555556,
              "#d8576b"
             ],
             [
              0.6666666666666666,
              "#ed7953"
             ],
             [
              0.7777777777777778,
              "#fb9f3a"
             ],
             [
              0.8888888888888888,
              "#fdca26"
             ],
             [
              1,
              "#f0f921"
             ]
            ],
            "type": "contour"
           }
          ],
          "contourcarpet": [
           {
            "colorbar": {
             "outlinewidth": 0,
             "ticks": ""
            },
            "type": "contourcarpet"
           }
          ],
          "heatmap": [
           {
            "colorbar": {
             "outlinewidth": 0,
             "ticks": ""
            },
            "colorscale": [
             [
              0,
              "#0d0887"
             ],
             [
              0.1111111111111111,
              "#46039f"
             ],
             [
              0.2222222222222222,
              "#7201a8"
             ],
             [
              0.3333333333333333,
              "#9c179e"
             ],
             [
              0.4444444444444444,
              "#bd3786"
             ],
             [
              0.5555555555555556,
              "#d8576b"
             ],
             [
              0.6666666666666666,
              "#ed7953"
             ],
             [
              0.7777777777777778,
              "#fb9f3a"
             ],
             [
              0.8888888888888888,
              "#fdca26"
             ],
             [
              1,
              "#f0f921"
             ]
            ],
            "type": "heatmap"
           }
          ],
          "heatmapgl": [
           {
            "colorbar": {
             "outlinewidth": 0,
             "ticks": ""
            },
            "colorscale": [
             [
              0,
              "#0d0887"
             ],
             [
              0.1111111111111111,
              "#46039f"
             ],
             [
              0.2222222222222222,
              "#7201a8"
             ],
             [
              0.3333333333333333,
              "#9c179e"
             ],
             [
              0.4444444444444444,
              "#bd3786"
             ],
             [
              0.5555555555555556,
              "#d8576b"
             ],
             [
              0.6666666666666666,
              "#ed7953"
             ],
             [
              0.7777777777777778,
              "#fb9f3a"
             ],
             [
              0.8888888888888888,
              "#fdca26"
             ],
             [
              1,
              "#f0f921"
             ]
            ],
            "type": "heatmapgl"
           }
          ],
          "histogram": [
           {
            "marker": {
             "pattern": {
              "fillmode": "overlay",
              "size": 10,
              "solidity": 0.2
             }
            },
            "type": "histogram"
           }
          ],
          "histogram2d": [
           {
            "colorbar": {
             "outlinewidth": 0,
             "ticks": ""
            },
            "colorscale": [
             [
              0,
              "#0d0887"
             ],
             [
              0.1111111111111111,
              "#46039f"
             ],
             [
              0.2222222222222222,
              "#7201a8"
             ],
             [
              0.3333333333333333,
              "#9c179e"
             ],
             [
              0.4444444444444444,
              "#bd3786"
             ],
             [
              0.5555555555555556,
              "#d8576b"
             ],
             [
              0.6666666666666666,
              "#ed7953"
             ],
             [
              0.7777777777777778,
              "#fb9f3a"
             ],
             [
              0.8888888888888888,
              "#fdca26"
             ],
             [
              1,
              "#f0f921"
             ]
            ],
            "type": "histogram2d"
           }
          ],
          "histogram2dcontour": [
           {
            "colorbar": {
             "outlinewidth": 0,
             "ticks": ""
            },
            "colorscale": [
             [
              0,
              "#0d0887"
             ],
             [
              0.1111111111111111,
              "#46039f"
             ],
             [
              0.2222222222222222,
              "#7201a8"
             ],
             [
              0.3333333333333333,
              "#9c179e"
             ],
             [
              0.4444444444444444,
              "#bd3786"
             ],
             [
              0.5555555555555556,
              "#d8576b"
             ],
             [
              0.6666666666666666,
              "#ed7953"
             ],
             [
              0.7777777777777778,
              "#fb9f3a"
             ],
             [
              0.8888888888888888,
              "#fdca26"
             ],
             [
              1,
              "#f0f921"
             ]
            ],
            "type": "histogram2dcontour"
           }
          ],
          "mesh3d": [
           {
            "colorbar": {
             "outlinewidth": 0,
             "ticks": ""
            },
            "type": "mesh3d"
           }
          ],
          "parcoords": [
           {
            "line": {
             "colorbar": {
              "outlinewidth": 0,
              "ticks": ""
             }
            },
            "type": "parcoords"
           }
          ],
          "pie": [
           {
            "automargin": true,
            "type": "pie"
           }
          ],
          "scatter": [
           {
            "fillpattern": {
             "fillmode": "overlay",
             "size": 10,
             "solidity": 0.2
            },
            "type": "scatter"
           }
          ],
          "scatter3d": [
           {
            "line": {
             "colorbar": {
              "outlinewidth": 0,
              "ticks": ""
             }
            },
            "marker": {
             "colorbar": {
              "outlinewidth": 0,
              "ticks": ""
             }
            },
            "type": "scatter3d"
           }
          ],
          "scattercarpet": [
           {
            "marker": {
             "colorbar": {
              "outlinewidth": 0,
              "ticks": ""
             }
            },
            "type": "scattercarpet"
           }
          ],
          "scattergeo": [
           {
            "marker": {
             "colorbar": {
              "outlinewidth": 0,
              "ticks": ""
             }
            },
            "type": "scattergeo"
           }
          ],
          "scattergl": [
           {
            "marker": {
             "colorbar": {
              "outlinewidth": 0,
              "ticks": ""
             }
            },
            "type": "scattergl"
           }
          ],
          "scattermapbox": [
           {
            "marker": {
             "colorbar": {
              "outlinewidth": 0,
              "ticks": ""
             }
            },
            "type": "scattermapbox"
           }
          ],
          "scatterpolar": [
           {
            "marker": {
             "colorbar": {
              "outlinewidth": 0,
              "ticks": ""
             }
            },
            "type": "scatterpolar"
           }
          ],
          "scatterpolargl": [
           {
            "marker": {
             "colorbar": {
              "outlinewidth": 0,
              "ticks": ""
             }
            },
            "type": "scatterpolargl"
           }
          ],
          "scatterternary": [
           {
            "marker": {
             "colorbar": {
              "outlinewidth": 0,
              "ticks": ""
             }
            },
            "type": "scatterternary"
           }
          ],
          "surface": [
           {
            "colorbar": {
             "outlinewidth": 0,
             "ticks": ""
            },
            "colorscale": [
             [
              0,
              "#0d0887"
             ],
             [
              0.1111111111111111,
              "#46039f"
             ],
             [
              0.2222222222222222,
              "#7201a8"
             ],
             [
              0.3333333333333333,
              "#9c179e"
             ],
             [
              0.4444444444444444,
              "#bd3786"
             ],
             [
              0.5555555555555556,
              "#d8576b"
             ],
             [
              0.6666666666666666,
              "#ed7953"
             ],
             [
              0.7777777777777778,
              "#fb9f3a"
             ],
             [
              0.8888888888888888,
              "#fdca26"
             ],
             [
              1,
              "#f0f921"
             ]
            ],
            "type": "surface"
           }
          ],
          "table": [
           {
            "cells": {
             "fill": {
              "color": "#EBF0F8"
             },
             "line": {
              "color": "white"
             }
            },
            "header": {
             "fill": {
              "color": "#C8D4E3"
             },
             "line": {
              "color": "white"
             }
            },
            "type": "table"
           }
          ]
         },
         "layout": {
          "annotationdefaults": {
           "arrowcolor": "#2a3f5f",
           "arrowhead": 0,
           "arrowwidth": 1
          },
          "autotypenumbers": "strict",
          "coloraxis": {
           "colorbar": {
            "outlinewidth": 0,
            "ticks": ""
           }
          },
          "colorscale": {
           "diverging": [
            [
             0,
             "#8e0152"
            ],
            [
             0.1,
             "#c51b7d"
            ],
            [
             0.2,
             "#de77ae"
            ],
            [
             0.3,
             "#f1b6da"
            ],
            [
             0.4,
             "#fde0ef"
            ],
            [
             0.5,
             "#f7f7f7"
            ],
            [
             0.6,
             "#e6f5d0"
            ],
            [
             0.7,
             "#b8e186"
            ],
            [
             0.8,
             "#7fbc41"
            ],
            [
             0.9,
             "#4d9221"
            ],
            [
             1,
             "#276419"
            ]
           ],
           "sequential": [
            [
             0,
             "#0d0887"
            ],
            [
             0.1111111111111111,
             "#46039f"
            ],
            [
             0.2222222222222222,
             "#7201a8"
            ],
            [
             0.3333333333333333,
             "#9c179e"
            ],
            [
             0.4444444444444444,
             "#bd3786"
            ],
            [
             0.5555555555555556,
             "#d8576b"
            ],
            [
             0.6666666666666666,
             "#ed7953"
            ],
            [
             0.7777777777777778,
             "#fb9f3a"
            ],
            [
             0.8888888888888888,
             "#fdca26"
            ],
            [
             1,
             "#f0f921"
            ]
           ],
           "sequentialminus": [
            [
             0,
             "#0d0887"
            ],
            [
             0.1111111111111111,
             "#46039f"
            ],
            [
             0.2222222222222222,
             "#7201a8"
            ],
            [
             0.3333333333333333,
             "#9c179e"
            ],
            [
             0.4444444444444444,
             "#bd3786"
            ],
            [
             0.5555555555555556,
             "#d8576b"
            ],
            [
             0.6666666666666666,
             "#ed7953"
            ],
            [
             0.7777777777777778,
             "#fb9f3a"
            ],
            [
             0.8888888888888888,
             "#fdca26"
            ],
            [
             1,
             "#f0f921"
            ]
           ]
          },
          "colorway": [
           "#636efa",
           "#EF553B",
           "#00cc96",
           "#ab63fa",
           "#FFA15A",
           "#19d3f3",
           "#FF6692",
           "#B6E880",
           "#FF97FF",
           "#FECB52"
          ],
          "font": {
           "color": "#2a3f5f"
          },
          "geo": {
           "bgcolor": "white",
           "lakecolor": "white",
           "landcolor": "#E5ECF6",
           "showlakes": true,
           "showland": true,
           "subunitcolor": "white"
          },
          "hoverlabel": {
           "align": "left"
          },
          "hovermode": "closest",
          "mapbox": {
           "style": "light"
          },
          "paper_bgcolor": "white",
          "plot_bgcolor": "#E5ECF6",
          "polar": {
           "angularaxis": {
            "gridcolor": "white",
            "linecolor": "white",
            "ticks": ""
           },
           "bgcolor": "#E5ECF6",
           "radialaxis": {
            "gridcolor": "white",
            "linecolor": "white",
            "ticks": ""
           }
          },
          "scene": {
           "xaxis": {
            "backgroundcolor": "#E5ECF6",
            "gridcolor": "white",
            "gridwidth": 2,
            "linecolor": "white",
            "showbackground": true,
            "ticks": "",
            "zerolinecolor": "white"
           },
           "yaxis": {
            "backgroundcolor": "#E5ECF6",
            "gridcolor": "white",
            "gridwidth": 2,
            "linecolor": "white",
            "showbackground": true,
            "ticks": "",
            "zerolinecolor": "white"
           },
           "zaxis": {
            "backgroundcolor": "#E5ECF6",
            "gridcolor": "white",
            "gridwidth": 2,
            "linecolor": "white",
            "showbackground": true,
            "ticks": "",
            "zerolinecolor": "white"
           }
          },
          "shapedefaults": {
           "line": {
            "color": "#2a3f5f"
           }
          },
          "ternary": {
           "aaxis": {
            "gridcolor": "white",
            "linecolor": "white",
            "ticks": ""
           },
           "baxis": {
            "gridcolor": "white",
            "linecolor": "white",
            "ticks": ""
           },
           "bgcolor": "#E5ECF6",
           "caxis": {
            "gridcolor": "white",
            "linecolor": "white",
            "ticks": ""
           }
          },
          "title": {
           "x": 0.05
          },
          "xaxis": {
           "automargin": true,
           "gridcolor": "white",
           "linecolor": "white",
           "ticks": "",
           "title": {
            "standoff": 15
           },
           "zerolinecolor": "white",
           "zerolinewidth": 2
          },
          "yaxis": {
           "automargin": true,
           "gridcolor": "white",
           "linecolor": "white",
           "ticks": "",
           "title": {
            "standoff": 15
           },
           "zerolinecolor": "white",
           "zerolinewidth": 2
          }
         }
        }
       }
      }
     },
     "metadata": {},
     "output_type": "display_data"
    }
   ],
   "source": [
    "# テーマごとの一致率\n",
    "plan_sku = df_plan.pivot_table(index=['store_cd', 'theme'], values='jan', aggfunc=pd.Series.nunique).reset_index()\n",
    "plan_and_real_sku = df_real.pivot_table(index=['theme'], values='plan_flg', aggfunc=sum).reset_index()\n",
    "df_match_per_theme = pd.merge(plan_sku, plan_and_real_sku, on='theme', how='left')\n",
    "df_match_per_theme = df_match_per_theme.rename(columns={'jan': 'plan_sku', 'plan_flg': 'plan_and_real_sku'})\n",
    "df_match_per_theme['match_per_theme'] = df_match_per_theme['plan_and_real_sku'] / df_match_per_theme['plan_sku']\n",
    "df_match_per_theme['unmatched_per_theme'] = 1 - df_match_per_theme['match_per_theme']\n",
    "df = df_match_per_theme\n",
    "\n",
    "num_cols = 10\n",
    "num_rows = -(-len(df) // num_cols)  \n",
    "\n",
    "fig = make_subplots(\n",
    "    rows=num_rows, cols=num_cols, \n",
    "    specs=[[{'type': 'domain'} for _ in range(num_cols)] for _ in range(num_rows)],\n",
    "    subplot_titles=[df.iloc[i,1] for i in range(len(df))],\n",
    "    horizontal_spacing=0.05,  \n",
    "    vertical_spacing=0.05,   \n",
    ")\n",
    "\n",
    "colors = ['#D7637A','#D6E6DF']\n",
    "\n",
    "for i in df.index:\n",
    "    labels = ['percentaile', 'whole']\n",
    "    values = [df.iloc[i,4], df.iloc[i,5]]\n",
    "    percent_text = f\"{df.iloc[i, 4] * 100:.1f}%\"\n",
    "    \n",
    "    fig.add_trace(\n",
    "        go.Pie(\n",
    "            labels=labels, \n",
    "            values=values, \n",
    "            hole=0.5, \n",
    "            marker=dict(colors=colors),\n",
    "            textinfo='text', \n",
    "            text=[percent_text, ''],  \n",
    "            textposition='outside', \n",
    "            hoverinfo='none',\n",
    "            sort=False, \n",
    "            textfont=dict(\n",
    "                size=17, \n",
    "                color='#D7637A'  \n",
    "            )\n",
    "        ),\n",
    "        row=(i // num_cols) + 1,\n",
    "        col=(i % num_cols) + 1\n",
    "    )\n",
    "\n",
    "fig.update_layout(\n",
    "    height=200 * num_rows, \n",
    "    margin=dict(t=40, b=10, l=20, r=20), \n",
    "    showlegend=False\n",
    ")\n",
    "\n",
    "fig.show()"
   ]
  },
  {
   "cell_type": "code",
   "execution_count": null,
   "metadata": {},
   "outputs": [],
   "source": []
  }
 ],
 "metadata": {
  "kernelspec": {
   "display_name": "Python 3",
   "language": "python",
   "name": "python3"
  },
  "language_info": {
   "codemirror_mode": {
    "name": "ipython",
    "version": 3
   },
   "file_extension": ".py",
   "mimetype": "text/x-python",
   "name": "python",
   "nbconvert_exporter": "python",
   "pygments_lexer": "ipython3",
   "version": "3.11.6"
  }
 },
 "nbformat": 4,
 "nbformat_minor": 2
}
